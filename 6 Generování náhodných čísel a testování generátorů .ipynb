{
  "nbformat": 4,
  "nbformat_minor": 0,
  "metadata": {
    "colab": {
      "provenance": [],
      "authorship_tag": "ABX9TyPSxHkRuWo2K9hmz9bmb/hx"
    },
    "kernelspec": {
      "name": "python3",
      "display_name": "Python 3"
    },
    "language_info": {
      "name": "python"
    }
  },
  "cells": [
    {
      "cell_type": "code",
      "execution_count": 11,
      "metadata": {
        "colab": {
          "base_uri": "https://localhost:8080/"
        },
        "id": "0KrXtfhL2L79",
        "outputId": "65820a11-38fd-4e75-cb3c-0e2c722d408b"
      },
      "outputs": [
        {
          "output_type": "stream",
          "name": "stdout",
          "text": [
            "Zadejte prosím několik náhodných znaků:asdf2214\n",
            "Vygenerované semínko: 9da4bf5e6223591838b729ff155d1bed7706dd35dcefa6076eb93377206bc5b2\n"
          ]
        }
      ],
      "source": [
        "import random\n",
        "import time\n",
        "import hashlib\n",
        "import os\n",
        "import sys\n",
        "\n",
        "# Získání času v milisekundách\n",
        "def get_timestamp(): # vrátí aktuální čas v sekundách, převede čas z sekund na milisekundy, po zaokrouhlení vrátí hodnotu\n",
        "    return int(round(time.time() * 1000))\n",
        "\n",
        "# Získání hashu ze systémového entropie\n",
        "def get_system_entropy():\n",
        "    entropy = os.urandom(1024) #generuje 1024 náhodných bajtů ze systémové entropie\n",
        "    return hashlib.sha256(entropy).digest() #vypočítá z těchto dat hash SHA-256. Funkce digest() vrací hash jako bajtový objekt.\n",
        "\n",
        "# Získání hashu z historie prohlížeče\n",
        "def get_browser_history_entropy():\n",
        "    history = \"\"\n",
        "    history = os.popen('sqlite3 \"%APPDATA%\\\\Mozilla\\\\Firefox\\\\Profiles\\\\*.default\\\\places.sqlite\" \"SELECT url FROM moz_places;\"').read() #dotaz na databázi historie Firefoxu.\n",
        "    return hashlib.sha256(history.encode()).digest() #history.encode() převede řetězec na bajtový řetězec. vrátí SHA-256 hash dat historie prohlížeče\n",
        "\n",
        "# Generování semínka\n",
        "def generate_seed():\n",
        "    seed = bytearray()\n",
        "\n",
        "    # Získání času\n",
        "    timestamp = get_timestamp()\n",
        "    seed.extend(timestamp.to_bytes(8, 'little')) #převede časové razítko na sekvenci bajtů o délce 8. 8 označuje požadovanou délku sekvence bajtů, „little“ určuje pořadí bajtů v sekvenci (nejméně významný bajt je na prvním místě).\n",
        "\n",
        "    # Získání systémové entropy\n",
        "    system_entropy = get_system_entropy()\n",
        "    seed.extend(system_entropy)\n",
        "\n",
        "    # Získání entropy z historie prohlížeče\n",
        "    browser_entropy = get_browser_history_entropy()\n",
        "    seed.extend(browser_entropy)\n",
        "\n",
        "    # Získání náhodných úhozů do klávesnice\n",
        "    keyboard_input = input(\"Zadejte prosím několik náhodných znaků:\")\n",
        "    seed.extend(keyboard_input.encode())\n",
        "\n",
        "    # Získání náhodného čísla\n",
        "    random_number = random.randint(0, 100000)\n",
        "    seed.extend(random_number.to_bytes(4, 'little'))\n",
        "\n",
        "    # Získání entropy ze snímání pohybu myší\n",
        "    mouse_entropy = os.popen('xinput test-xi2 --root').read() #přečte data o pohybu myši ze zařízení, poté se přečtou\n",
        "    seed.extend(hashlib.sha256(mouse_entropy.encode()).digest()) #digest(). Vrací výtah (hash) jako bajtový objekt.\n",
        "\n",
        "    # Výsledný hash semínka\n",
        "    seed_hash = hashlib.sha256(seed).hexdigest()\n",
        "    return seed_hash #vrátí hash jako hexadecimální řetězec\n",
        "\n",
        "# Použití generátoru semínka\n",
        "seed = generate_seed()\n",
        "print(\"Vygenerované semínko:\", seed)\n"
      ]
    }
  ]
}