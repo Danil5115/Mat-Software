{
  "nbformat": 4,
  "nbformat_minor": 0,
  "metadata": {
    "colab": {
      "provenance": [],
      "authorship_tag": "ABX9TyO7b8KqIZ1mXVpQgsfJg9+O",
      "include_colab_link": true
    },
    "kernelspec": {
      "name": "python3",
      "display_name": "Python 3"
    },
    "language_info": {
      "name": "python"
    }
  },
  "cells": [
    {
      "cell_type": "markdown",
      "metadata": {
        "id": "view-in-github",
        "colab_type": "text"
      },
      "source": [
        "<a href=\"https://colab.research.google.com/github/Danil5115/Mat-Software/blob/main/8%20Derivace%20funkce%20jedn%C3%A9%20prom%C4%9Bnn%C3%A9%20.ipynb\" target=\"_parent\"><img src=\"https://colab.research.google.com/assets/colab-badge.svg\" alt=\"Open In Colab\"/></a>"
      ]
    },
    {
      "cell_type": "code",
      "execution_count": 1,
      "metadata": {
        "colab": {
          "base_uri": "https://localhost:8080/"
        },
        "id": "-6VmhKLrjfq_",
        "outputId": "e5466cce-9972-41fd-9316-b3d24837213f"
      },
      "outputs": [
        {
          "output_type": "stream",
          "name": "stdout",
          "text": [
            "Numerická derivace s adaptabilním krokem: 0.7071021776357611\n",
            "Analytická derivace: 0.7071067811865476\n"
          ]
        }
      ],
      "source": [
        "import math\n",
        "\n",
        "def f(x):\n",
        "    return math.sin(x) #je základní funkce, kterou chceme derivovat\n",
        "\n",
        "def f_prime(x):\n",
        "    return math.cos(x) #je analytická derivace základní funkce\n",
        "\n",
        "def numerical_derivative(x, h): #je implementací metody centrální diference. Přijímá dva parametry: bod x, ve kterém chceme derivaci spočítat, a krok h, který určuje, jak blízko budeme brát body vlevo a vpravo od x.\n",
        "    return (f(x + h) - f(x - h)) / (2 * h) \n",
        "\n",
        "def adaptive_derivative(x, h, tolerance): # x: Bod, ve kterém chceme derivaci spočítat.h: Počáteční krok, který se používá pro výpočet derivace.tolerance: Hodnota tolerance, která určuje přesnost výsledku\n",
        "    h_new = h\n",
        "    error = float('inf')\n",
        "\n",
        "    while error > tolerance:\n",
        "        derivative = numerical_derivative(x, h_new)\n",
        "        derivative_left = numerical_derivative(x, h_new/2)\n",
        "        derivative_right = numerical_derivative(x, h_new/4)\n",
        "\n",
        "        error = abs(derivative_left - derivative_right)\n",
        "        h_new /= 2\n",
        "\n",
        "    return derivative\n",
        "\n",
        "# Nastavení hodnot\n",
        "x = math.pi / 4\n",
        "h = 0.1\n",
        "tolerance = 1e-6\n",
        "\n",
        "# Výpočet derivace s adaptabilním krokem\n",
        "adaptive_result = adaptive_derivative(x, h, tolerance)\n",
        "\n",
        "# Výpočet analytické derivace\n",
        "analytical_result = f_prime(x)\n",
        "\n",
        "# Výsledky\n",
        "print(\"Numerická derivace s adaptabilním krokem:\", adaptive_result)\n",
        "print(\"Analytická derivace:\", analytical_result)\n"
      ]
    }
  ]
}