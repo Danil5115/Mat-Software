{
  "cells": [
    {
      "attachments": {},
      "cell_type": "markdown",
      "metadata": {
        "id": "pLxAiPMG__a6"
      },
      "source": [
        "# 1. Knihovny a moduly pro matematické výpočty"
      ]
    },
    {
      "cell_type": "code",
      "execution_count": null,
      "metadata": {
        "colab": {
          "base_uri": "https://localhost:8080/"
        },
        "id": "m7c9qt58Bs1l",
        "outputId": "7959a42b-2f2e-4e6b-fbcb-f015de2ee28d"
      },
      "outputs": [
        {
          "name": "stdout",
          "output_type": "stream",
          "text": [
            "Výpočet faktoriálu čísla 800 pomocí standardního Pythonu trval 0.0015387535095214844 sekund.\n",
            "Výpočet faktoriálu čísla 800 pomocí knihovny numpy trval 0.0070574283599853516 sekund.\n",
            "Výpočet faktoriálu čísla 800 pomocí knihovny scipy trval 0.0014581680297851562 sekund.\n",
            "Výpočet faktoriálu čísla 800 pomocí knihovny math trval 0.002263784408569336 sekund.\n",
            "Scipy byla nejrychlejší.\n"
          ]
        }
      ],
      "source": [
        "# 1. Výpočet faktoriálu velkeho cisla\n",
        "import time\n",
        "import numpy as np\n",
        "import scipy.special\n",
        "import math\n",
        "\n",
        "# Výpočet faktoriálu pomocí standardního Pythonu\n",
        "def factorial_py(n):\n",
        "    if n == 0:\n",
        "        return 1\n",
        "    else:\n",
        "        return n * factorial_py(n-1)\n",
        "\n",
        "# Výpočet faktoriálu pomocí knihovny numpy\n",
        "def factorial_np(n):\n",
        "    return np.prod(np.arange(1, n+1)) #np.arange() создает массив чисел от 1 до n vytvoří pole čísel od 1 do n. np.prod() вычисляет произведение элементов этого массива, что и дает результат — факториал числа n. ypočítá součin prvků tohoto pole, čímž získá výsledek – faktoriál čísla n.\n",
        "\n",
        "# Výpočet faktoriálu pomocí knihovny scipy\n",
        "def factorial_scipy(n):\n",
        "    return scipy.special.factorial(n)\n",
        "\n",
        "# Výpočet faktoriálu pomocí knihovny math\n",
        "def factorial_math(n):\n",
        "    return math.factorial(n)\n",
        "\n",
        "# Testování rychlosti výpočtu faktoriálu\n",
        "n = 800\n",
        "\n",
        "start = time.time()\n",
        "factorial_py(n)\n",
        "py_time = time.time() - start\n",
        "\n",
        "start = time.time()\n",
        "factorial_np(n)\n",
        "np_time = time.time() - start\n",
        "\n",
        "start = time.time()\n",
        "factorial_scipy(n)\n",
        "scipy_time = time.time() - start\n",
        "\n",
        "start = time.time()\n",
        "factorial_math(n)\n",
        "math_time = time.time() - start\n",
        "\n",
        "print(f\"Výpočet faktoriálu čísla {n} pomocí standardního Pythonu trval {py_time} sekund.\")\n",
        "print(f\"Výpočet faktoriálu čísla {n} pomocí knihovny numpy trval {np_time} sekund.\")\n",
        "print(f\"Výpočet faktoriálu čísla {n} pomocí knihovny scipy trval {scipy_time} sekund.\")\n",
        "print(f\"Výpočet faktoriálu čísla {n} pomocí knihovny math trval {math_time} sekund.\")\n",
        "\n",
        "fastest = min(py_time, np_time, scipy_time, math_time)\n",
        "if fastest == py_time:\n",
        "    print(\"Standardní Python byl nejrychlejší.\")\n",
        "elif fastest == np_time:\n",
        "    print(\"Numpy byla nejrychlejší.\")\n",
        "elif fastest == scipy_time:\n",
        "    print(\"Scipy byla nejrychlejší.\")\n",
        "else:\n",
        "    print(\"Math byla nejrychlejší.\")\n"
      ]
    },
    {
      "cell_type": "code",
      "execution_count": null,
      "metadata": {
        "colab": {
          "base_uri": "https://localhost:8080/"
        },
        "id": "oIwA42hCII_n",
        "outputId": "5bff56b1-f8f8-4efc-9787-a6a495fb9a65"
      },
      "outputs": [
        {
          "name": "stdout",
          "output_type": "stream",
          "text": [
            "Výpočet determinantu matice pomocí standardního Pythonu trval 8.576832056045532 sekund.\n",
            "Výpočet determinantu matice pomocí knihovny numpy trval 0.00015735626220703125 sekund.\n",
            "Numpy byla rychlejší.\n"
          ]
        }
      ],
      "source": [
        "# 2.Výpočet determinantu matice\n",
        "\n",
        "import time\n",
        "import numpy as np\n",
        "\n",
        "# Výpočet determinantu matice pomocí standardního Pythonu\n",
        "def det_py(matrix):\n",
        "    n = len(matrix)\n",
        "    if n == 1:\n",
        "        return matrix[0][0]\n",
        "    elif n == 2:\n",
        "        return matrix[0][0]*matrix[1][1] - matrix[0][1]*matrix[1][0]\n",
        "    else:\n",
        "        det = 0\n",
        "        for j in range(n):\n",
        "            submatrix = [[matrix[i][k] for k in range(n) if k != j] for i in range(1,n)]\n",
        "            det += (-1)**j * matrix[0][j] * det_py(submatrix)\n",
        "        return det\n",
        "\n",
        "# Výpočet determinantu matice pomocí knihovny numpy\n",
        "def det_np(matrix):\n",
        "    return np.linalg.det(matrix)\n",
        "\n",
        "# Testování rychlosti výpočtu determinantu matice\n",
        "n = 10\n",
        "\n",
        "# Generování náhodné matice o rozměru n x n\n",
        "matrix = np.random.rand(n, n)\n",
        "\n",
        "start = time.time()\n",
        "det_py(matrix)\n",
        "py_time = time.time() - start\n",
        "\n",
        "start = time.time()\n",
        "det_np(matrix)\n",
        "np_time = time.time() - start\n",
        "\n",
        "print(f\"Výpočet determinantu matice pomocí standardního Pythonu trval {py_time} sekund.\")\n",
        "print(f\"Výpočet determinantu matice pomocí knihovny numpy trval {np_time} sekund.\")\n",
        "\n",
        "if py_time < np_time:\n",
        "    print(\"Standardní Python byl rychlejší.\")\n",
        "else:\n",
        "    print(\"Numpy byla rychlejší.\")\n"
      ]
    },
    {
      "cell_type": "code",
      "execution_count": 1,
      "metadata": {
        "colab": {
          "base_uri": "https://localhost:8080/"
        },
        "id": "P7UkHUZHJInp",
        "outputId": "5cb63c07-d100-4a9f-ab2b-ecdd7fb98c51"
      },
      "outputs": [
        {
          "name": "stdout",
          "output_type": "stream",
          "text": [
            "Výsledek výpočtu derivace pomocí standardního Pythonu: 0.5403023022659825\n",
            "Výsledek výpočtu derivace pomocí SymPy: 0.540302305868140\n",
            "Čas výpočtu derivace pomocí standardního Pythonu: 0.0009558300000094277\n",
            "Čas výpočtu derivace pomocí SymPy: 0.3561665459999972\n"
          ]
        }
      ],
      "source": [
        "# 3 Výpočet derivace\n",
        "import math\n",
        "from sympy import symbols, diff, sin, cos\n",
        "import timeit\n",
        "\n",
        "# funkce pro výpočet derivace standardním Pythonem\n",
        "def f(x):  \n",
        "    return math.sin(x) * math.cos(x) #vezme jeden argument x a vrátí součin funkcí\n",
        "\n",
        "def derivace_python(f, x, h=0.0001):\n",
        "    return (f(x + h) - f(x - h)) / (2 * h) #h je volitelný argument, který určuje velikost kroku mezi body použitými k výpočtu derivace\n",
        "\n",
        "# funkce pro výpočet derivace pomocí SymPy\n",
        "x = symbols('x')\n",
        "f_sym = sin(x) * cos(x)\n",
        "derivace_sym = diff(f_sym, x)\n",
        "\n",
        "def derivace_sympy(x):\n",
        "    return derivace_sym.evalf(subs={x: x}) #subs={x: x} určuje, že v symbolickém výrazu by měl být znak x nahrazen hodnotou x předanou jako argument funkce\n",
        "\n",
        "# srovnání rychlosti výpočtu\n",
        "x_cislo = 0.5\n",
        "vysledek_python = derivace_python(f, x_cislo)\n",
        "vysledek_sympy = derivace_sym.evalf(subs={x: x_cislo})\n",
        "\n",
        "print(\"Výsledek výpočtu derivace pomocí standardního Pythonu:\", vysledek_python)\n",
        "print(\"Výsledek výpočtu derivace pomocí SymPy:\", vysledek_sympy)\n",
        "\n",
        "cas_python = timeit.timeit(lambda: derivace_python(f, x_cislo), number=1000)\n",
        "cas_sympy = timeit.timeit(lambda: derivace_sympy(x_cislo), number=1000)\n",
        "print(\"Čas výpočtu derivace pomocí standardního Pythonu:\", cas_python)\n",
        "print(\"Čas výpočtu derivace pomocí SymPy:\", cas_sympy)\n"
      ]
    },
    {
      "cell_type": "code",
      "execution_count": 13,
      "metadata": {
        "colab": {
          "base_uri": "https://localhost:8080/"
        },
        "id": "6uobVZuoy1T5",
        "outputId": "12abec2d-33e0-45bb-a670-8b19760c9aa7"
      },
      "outputs": [
        {
          "name": "stdout",
          "output_type": "stream",
          "text": [
            "Numpy time: 0.06508612632751465\n",
            "Python time: 383.78494596481323\n",
            "NumPy je 5896.57070745922 krát rychlejší než Python\n"
          ]
        }
      ],
      "source": [
        "# 4 Násobení matic\n",
        "import numpy as np\n",
        "import random\n",
        "import time\n",
        "\n",
        "# sestavení dvou náhodných matic o velikosti 1000 x 1000 pomocí numpy\n",
        "matrix1 = np.random.rand(1000, 1000)\n",
        "matrix2 = np.random.rand(1000, 1000)\n",
        "\n",
        "# násobení matic pomocí numpy\n",
        "start_time = time.time()\n",
        "result_numpy = np.dot(matrix1, matrix2)\n",
        "end_time = time.time()\n",
        "numpy_time = end_time - start_time\n",
        "print(\"Numpy time:\", numpy_time)\n",
        "\n",
        "# sestavení dvou náhodných matic o velikosti 1000 x 1000 pomocí standardního pythonu\n",
        "matrix1 = [[random.random() for j in range(1000)] for i in range(1000)]\n",
        "matrix2 = [[random.random() for j in range(1000)] for i in range(1000)]\n",
        "\n",
        "# násobení matic pomocí standardního pythonu\n",
        "start_time = time.time()\n",
        "result_python = [[0 for j in range(1000)] for i in range(1000)]\n",
        "for i in range(1000): #Vnější smyčka prochází řádky první matice\n",
        "    for j in range(1000): #střední smyčka prochází sloupci druhé matice\n",
        "        for k in range(1000): #a vnitřní smyčka prochází sloupci první matice a řádky druhé matice a provádí operaci násobení odpovídajících prvků\n",
        "            result_python[i][j] += matrix1[i][k] * matrix2[k][j]\n",
        "end_time = time.time()\n",
        "python_time = end_time - start_time\n",
        "print(\"Python time:\", python_time)\n",
        "print(\"NumPy je\", python_time/numpy_time, \"krát rychlejší než Python\")"
      ]
    },
    {
      "cell_type": "code",
      "execution_count": 15,
      "metadata": {
        "colab": {
          "base_uri": "https://localhost:8080/"
        },
        "id": "jtTs2qN56eRj",
        "outputId": "13d76890-1400-4c6f-80ac-234586222f56"
      },
      "outputs": [
        {
          "name": "stdout",
          "output_type": "stream",
          "text": [
            "Výsledek výpočtu pomocí standardního pythonu:  24348233.333357662\n",
            "Výsledek výpočtu pomocí knihovny SciPy:  24348233.333333332\n",
            "Čas výpočtu pomocí standardního pythonu:  1.9023681299995587\n",
            "Čas výpočtu pomocí knihovny SciPy:  0.00016637099997751648\n"
          ]
        }
      ],
      "source": [
        "# 5 výpočet určitého integrálu\n",
        "import random\n",
        "from timeit import default_timer as timer\n",
        "\n",
        "# Standardní Python - použití metody lichoběžníků pro výpočet určitého integrálu\n",
        "def f(x):\n",
        "    return x ** 3 - 2 * x ** 2 + 3 * x - 1\n",
        "\n",
        "def integrate_f(a, b, n): #používá lichoběžníkovou metodu k výpočtu určitého integrálu funkce přes interval [a, b] pomocí n lichoběžníků\n",
        "    dx = (b - a) / n #vypočítá délku každého lichoběžníku\n",
        "    integral = 0 #inicializuje proměnnou pro uložení výsledku integrace\n",
        "    for i in range(n): #iteruje přes všechny lichoběžníky v daném intervalu\n",
        "        xi = a + i * dx #vypočítá počáteční souřadnici aktuálního lichoběžníku\n",
        "        xi1 = xi + dx #vypočítá koncovou souřadnici aktuálního lichoběžníku\n",
        "        integral += (f(xi) + f(xi1)) / 2 * dx #vypočítá plochu aktuálního lichoběžníku pomocí metody lichoběžníku\n",
        "    return integral\n",
        "\n",
        "# Použití knihovny SciPy pro výpočet určitého integrálu\n",
        "from scipy import integrate\n",
        "\n",
        "integral, error = integrate.quad(f, 0, 100) #Gaussova-Kronrodova kvadraturní metoda pro numerický výpočet určitých integrálů\n",
        "\n",
        "# Výpočet rychlosti standardního pythonu\n",
        "start = timer()\n",
        "result = integrate_f(0, 100, 1000000)\n",
        "end = timer()\n",
        "time_standard_python = end - start\n",
        "\n",
        "# Výpočet rychlosti knihovny SciPy\n",
        "start = timer()\n",
        "integral, error = integrate.quad(f, 0, 100) \n",
        "end = timer()\n",
        "time_scipy = end - start\n",
        "\n",
        "print(\"Výsledek výpočtu pomocí standardního pythonu: \", result)\n",
        "print(\"Výsledek výpočtu pomocí knihovny SciPy: \", integral)\n",
        "print(\"Čas výpočtu pomocí standardního pythonu: \", time_standard_python)\n",
        "print(\"Čas výpočtu pomocí knihovny SciPy: \", time_scipy)\n"
      ]
    }
  ],
  "metadata": {
    "colab": {
      "authorship_tag": "ABX9TyO1omuRzP1s2Q7ianYkhH1m",
      "provenance": []
    },
    "kernelspec": {
      "display_name": "Python 3",
      "name": "python3"
    },
    "language_info": {
      "name": "python",
      "version": "3.11.0"
    }
  },
  "nbformat": 4,
  "nbformat_minor": 0
}
